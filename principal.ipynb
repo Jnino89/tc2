{
 "cells": [
  {
   "cell_type": "markdown",
   "metadata": {},
   "source": [
    "# Teoría de los Circuitos 2   <img src=\"./logo_UTN.svg\" align=\"right\" width=\"150\" /> \n",
    "\n",
    "#### Dr. Mariano Llamedo Soria\n"
   ]
  },
  {
   "cell_type": "markdown",
   "metadata": {},
   "source": [
    "## Documento principal\n",
    "\n",
    "Este documento agrupa algunos materiales disponibles para el curso de *Teoría de los Circuitos 2*.\n",
    "\n",
    "* [Presentación y cuestiones administrativas](presentacion.ipynb)\n",
    "\n",
    "* Campus virtual [R4052 Lunes noche](https://aulasvirtuales.frba.utn.edu.ar/course/view.php?id=5066), [R4001 Jueves mañana](https://aulasvirtuales.frba.utn.edu.ar/course/view.php?id=5061)\n",
    "\n",
    "* Formulario de métricas semanales [R4052](https://docs.google.com/forms/d/e/1FAIpQLScx4QwPyAV2CyazKV8138FaBueUpazN0HayWs_0Mi16KL-H0w/viewform), [R4001](https://docs.google.com/forms/d/e/1FAIpQLSe6pQnlNxb8urlOqp-yrwNnD8P4iiWvHKgAws8EbbDvReVtoQ/viewform)\n",
    "\n",
    "* Chat del curso [R4052](https://mail.google.com/chat/u/1/#chat/space/AAAACl12Bb0), [R4001](https://mail.google.com/chat/u/1/#chat/space/AAAANtDRYV4), [Final](https://mail.google.com/chat/u/1/#chat/space/AAAAMRBaXJE)\n",
    "\n",
    "* [Preparación del entorno de trabajo](preparacion.ipynb)\n",
    "    + Preparación en Windows (no sugerido) [Isi Pavelek]()\n",
    "    \n",
    "* [Tutoriales y primeros pasos]()\n"
   ]
  }
 ],
 "metadata": {
  "kernelspec": {
   "display_name": "Python 3 (ipykernel)",
   "language": "python",
   "name": "python3"
  },
  "language_info": {
   "codemirror_mode": {
    "name": "ipython",
    "version": 3
   },
   "file_extension": ".py",
   "mimetype": "text/x-python",
   "name": "python",
   "nbconvert_exporter": "python",
   "pygments_lexer": "ipython3",
   "version": "3.10.4"
  }
 },
 "nbformat": 4,
 "nbformat_minor": 2
}
