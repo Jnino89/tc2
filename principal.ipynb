{
 "cells": [
  {
   "cell_type": "markdown",
   "metadata": {},
   "source": [
    "# Teoría de los Circuitos 2   <img src=\"./logo_UTN.svg\" align=\"right\" width=\"150\" /> \n",
    "\n",
    "#### Dr. Mariano Llamedo Soria\n"
   ]
  },
  {
   "cell_type": "markdown",
   "metadata": {},
   "source": [
    "## Documento principal\n",
    "\n",
    "Este documento resume la información que necesitarás para comenzar a cursar *Teoría de los Circuitos 2*. Comenzando por las cuestiones administrativas que podés ir resolviendo durante las primeras clases:\n",
    "\n",
    "* [Presentación de la materia y cuestiones administrativas](presentacion.ipynb)\n",
    "\n",
    "* Campus virtual de los cursos [R4052 Lunes noche](https://aulasvirtuales.frba.utn.edu.ar/course/view.php?id=5066), [R4001 Jueves mañana](https://aulasvirtuales.frba.utn.edu.ar/course/view.php?id=5061). **Te daremos una contraseña de automatriculación** pero se puede acceder con clave de **invitado** también.\n",
    "\n",
    "* Formulario de métricas semanales [R4052](https://docs.google.com/forms/d/e/1FAIpQLScx4QwPyAV2CyazKV8138FaBueUpazN0HayWs_0Mi16KL-H0w/viewform), [R4001](https://docs.google.com/forms/d/e/1FAIpQLSe6pQnlNxb8urlOqp-yrwNnD8P4iiWvHKgAws8EbbDvReVtoQ/viewform). Requiere cuenta @frba. Solo comprobá que accedas al formulario y esté tu nombre y apellido.\n",
    "\n",
    "* Chats del curso [R4052](https://mail.google.com/chat/u/1/#chat/space/AAAACl12Bb0), [R4001](https://mail.google.com/chat/u/1/#chat/space/AAAANtDRYV4), [Final](https://mail.google.com/chat/u/1/#chat/space/AAAAMRBaXJE). Requiere cuenta @frba. Conectate, presentate y mandá el enlace a tu primer notebook, verás la consigna en el siguiente enlace.\n",
    "\n",
    "Otras cuestiones que podrás ir resolviendo tienen que ver con el software necesario para la cursada:\n",
    "\n",
    "* [Preparación del entorno de trabajo en Ubuntu](preparacion.ipynb)\n",
    "\n",
    "Una vez que tengas todo resuelto, no pierdas de vista la consigna que tenés al final de la *preparación del entorno*. Podés dar los primeros pasos y contando en el chat cómo te fue. \n"
   ]
  }
 ],
 "metadata": {
  "kernelspec": {
   "display_name": "Python 3 (ipykernel)",
   "language": "python",
   "name": "python3"
  },
  "language_info": {
   "codemirror_mode": {
    "name": "ipython",
    "version": 3
   },
   "file_extension": ".py",
   "mimetype": "text/x-python",
   "name": "python",
   "nbconvert_exporter": "python",
   "pygments_lexer": "ipython3",
   "version": "3.10.6"
  }
 },
 "nbformat": 4,
 "nbformat_minor": 2
}
